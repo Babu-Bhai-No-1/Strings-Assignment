{
 "cells": [
  {
   "cell_type": "code",
   "execution_count": 3,
   "id": "d0ede2bf-5756-4acf-bbc2-8a3eb2101a33",
   "metadata": {},
   "outputs": [
    {
     "data": {
      "text/plain": [
       "'I am Learning Python'"
      ]
     },
     "execution_count": 3,
     "metadata": {},
     "output_type": "execute_result"
    }
   ],
   "source": [
    "# Q-1 How do you concatenate two strings in Python?\n",
    "str1=\"I am\"\n",
    "str2=\" Learning Python\"\n",
    "str1+str2"
   ]
  },
  {
   "cell_type": "code",
   "execution_count": 9,
   "id": "daa48d68-de3b-42e9-af15-19a3f7aff3c6",
   "metadata": {},
   "outputs": [
    {
     "name": "stdout",
     "output_type": "stream",
     "text": [
      "I am Learning Python\n",
      "I am Learning Python\n"
     ]
    }
   ],
   "source": [
    "''' Q-2 What is the difference between the + operator and the join() method for\n",
    "concatenating strings?'''\n",
    "# +operator\n",
    "str1=\"I am\"\n",
    "str2=\" Learning Python\"\n",
    "print(str1+str2)\n",
    "#join() method\n",
    "list=[\"I am\",\"Learning Python\"]\n",
    "result=\" \".join(list)\n",
    "print(result)\n"
   ]
  },
  {
   "cell_type": "code",
   "execution_count": 11,
   "id": "dd0338f1-c422-43b7-bf0c-6b27b8e4828b",
   "metadata": {},
   "outputs": [
    {
     "name": "stdout",
     "output_type": "stream",
     "text": [
      "P\n",
      "y\n",
      "t\n",
      "h\n",
      "o\n",
      "n\n"
     ]
    }
   ],
   "source": [
    "'''Q-3 How do you access individual characters in a string?'''\n",
    "str1=\"Python\"\n",
    "print(str1[0])\n",
    "print(str1[1])\n",
    "print(str1[2])\n",
    "print(str1[3])\n",
    "print(str1[4])\n",
    "print(str1[5])"
   ]
  },
  {
   "cell_type": "code",
   "execution_count": 21,
   "id": "970967ad-1083-4bf0-8503-50a694e519f3",
   "metadata": {},
   "outputs": [
    {
     "name": "stdout",
     "output_type": "stream",
     "text": [
      "6\n"
     ]
    }
   ],
   "source": [
    "'''Q-4 What method is used to find the length of a string in Python?'''\n",
    "str1=\"Python\"\n",
    "print(len(str1))"
   ]
  },
  {
   "cell_type": "code",
   "execution_count": 23,
   "id": "5efc6243-3e3e-4f25-b59d-78db50f00819",
   "metadata": {},
   "outputs": [
    {
     "data": {
      "text/plain": [
       "'PYTHON'"
      ]
     },
     "execution_count": 23,
     "metadata": {},
     "output_type": "execute_result"
    }
   ],
   "source": [
    "'''Q-5 How can you convert a string to uppercase in Python?'''\n",
    "str1=\"Python\"\n",
    "str1.upper()"
   ]
  },
  {
   "cell_type": "code",
   "execution_count": 25,
   "id": "c671c14c-ecb3-4fca-8909-4fd19af1beee",
   "metadata": {},
   "outputs": [
    {
     "data": {
      "text/plain": [
       "'python'"
      ]
     },
     "execution_count": 25,
     "metadata": {},
     "output_type": "execute_result"
    }
   ],
   "source": [
    "'''Q-6 How can you convert a string to lowercase in Python?'''\n",
    "str1=\"Python\"\n",
    "str1.lower()"
   ]
  },
  {
   "cell_type": "code",
   "execution_count": 3,
   "id": "7f914f5e-e450-43a4-8ae3-6fd6a582bbe8",
   "metadata": {},
   "outputs": [
    {
     "name": "stdout",
     "output_type": "stream",
     "text": [
      "Hello World\n"
     ]
    }
   ],
   "source": [
    "''' 7. What method is used to replace substrings within a string?'''\n",
    "s=\"Hello Python\"\n",
    "new_s=s.replace(\"Python\",\"World\")\n",
    "print(new_s)"
   ]
  },
  {
   "cell_type": "code",
   "execution_count": 37,
   "id": "25689ded-6493-4706-b218-5dcd744064f3",
   "metadata": {},
   "outputs": [
    {
     "name": "stdout",
     "output_type": "stream",
     "text": [
      "['Hello', 'World']\n"
     ]
    }
   ],
   "source": [
    "'''8. How can you split a string into a list of substrings based on a delimiter? '''\n",
    "s=\"Hello World\"\n",
    "s2=s.split(\" \")\n",
    "print(s2)"
   ]
  },
  {
   "cell_type": "code",
   "execution_count": 5,
   "id": "0acae407-d9f7-4257-9556-44083cc2693b",
   "metadata": {},
   "outputs": [
    {
     "name": "stdout",
     "output_type": "stream",
     "text": [
      "True\n"
     ]
    }
   ],
   "source": [
    "''' 9. How do you check if a string starts with a particular substring? '''\n",
    "s1=\"Hello Python\"\n",
    "s2=s1.startswith(\"Hello\")\n",
    "print(s2)"
   ]
  },
  {
   "cell_type": "code",
   "execution_count": 7,
   "id": "30a723b7-f8d5-432b-a596-d454bfedd173",
   "metadata": {},
   "outputs": [
    {
     "name": "stdout",
     "output_type": "stream",
     "text": [
      "True\n"
     ]
    }
   ],
   "source": [
    "'''10. How do you check if a string ends with a particular substring? '''\n",
    "s1=\"Hello Python\"\n",
    "s2=s1.endswith(\"Python\")\n",
    "print(s2)"
   ]
  },
  {
   "cell_type": "code",
   "execution_count": 15,
   "id": "91f20a5d-3159-4ea9-aea6-8c28bbc43889",
   "metadata": {},
   "outputs": [
    {
     "name": "stdout",
     "output_type": "stream",
     "text": [
      "  Hello  Python   \n",
      "Hello  Python\n"
     ]
    }
   ],
   "source": [
    "''' 11. How can you remove leading and trailing whitespace from a string? '''\n",
    "s1=\"  Hello  Python   \"\n",
    "s2=s1.strip()\n",
    "print(s1)\n",
    "print(s2)"
   ]
  },
  {
   "cell_type": "code",
   "execution_count": 17,
   "id": "53114ce1-6d2a-4b9f-9718-85841350725a",
   "metadata": {},
   "outputs": [
    {
     "name": "stdout",
     "output_type": "stream",
     "text": [
      "6\n"
     ]
    }
   ],
   "source": [
    "'''12 What method is used to find the index of the first occurrence of a substring within a\n",
    "string?'''\n",
    "s1=\"Hello World\"\n",
    "s2=s1.find(\"World\")\n",
    "print(s2)\n"
   ]
  },
  {
   "cell_type": "code",
   "execution_count": 21,
   "id": "4336d82c-d0d4-41ef-a3e5-b2f100f1debb",
   "metadata": {},
   "outputs": [
    {
     "name": "stdout",
     "output_type": "stream",
     "text": [
      "2\n"
     ]
    }
   ],
   "source": [
    "'''13. How can you count the number of occurrences of a substring within a string?'''\n",
    "s1=\"HELLO HELLO WORLD WORLD\"\n",
    "s2=s1.count(\"HELLO\")\n",
    "print(s2)"
   ]
  },
  {
   "cell_type": "code",
   "execution_count": 23,
   "id": "c554768a-c41c-4d05-99c2-799250d41945",
   "metadata": {},
   "outputs": [
    {
     "name": "stdout",
     "output_type": "stream",
     "text": [
      "True\n"
     ]
    }
   ],
   "source": [
    "'''14. How do you check if a string contains only alphabetic characters?'''\n",
    "s1=\"heLlo\"\n",
    "s2=s1.isalpha()\n",
    "print(s2)"
   ]
  },
  {
   "cell_type": "code",
   "execution_count": 25,
   "id": "5eec21f1-eed3-4803-a349-9b7a6d6b7c6c",
   "metadata": {},
   "outputs": [
    {
     "name": "stdout",
     "output_type": "stream",
     "text": [
      "True\n"
     ]
    }
   ],
   "source": [
    "'''15. How do you check if a string contains only numeric characters?'''\n",
    "s1=\"123\"\n",
    "s2=s1.isnumeric()\n",
    "print(s2)"
   ]
  },
  {
   "cell_type": "code",
   "execution_count": 51,
   "id": "9a33aab7-04a6-4d7e-83d9-e7fbd53565d8",
   "metadata": {},
   "outputs": [
    {
     "name": "stdout",
     "output_type": "stream",
     "text": [
      "palindrome\n"
     ]
    }
   ],
   "source": [
    "'''Q-16 How can you check if a string is a palindrome?'''\n",
    "string=\"Nitin\"\n",
    "string=string.lower()\n",
    "length=len(string)\n",
    "palindrome=\"true\"\n",
    "for i in range(length):\n",
    "       if(string[i]!=string[length-i-1]):\n",
    "             palindrome=\"false\"\n",
    "             break;\n",
    "\n",
    "if(palindrome==\"true\"):\n",
    "  print(\"palindrome\")\n",
    "else:\n",
    "  print(\"not a palimdrome\")\n",
    "\n",
    "    \n",
    "\n",
    "    "
   ]
  },
  {
   "cell_type": "code",
   "execution_count": 45,
   "id": "33efed74-1c9b-46e0-8c0f-5609086ff760",
   "metadata": {},
   "outputs": [
    {
     "ename": "TypeError",
     "evalue": "'str' object does not support item assignment",
     "output_type": "error",
     "traceback": [
      "\u001b[1;31m---------------------------------------------------------------------------\u001b[0m",
      "\u001b[1;31mTypeError\u001b[0m                                 Traceback (most recent call last)",
      "Cell \u001b[1;32mIn[45], line 6\u001b[0m\n\u001b[0;32m      4\u001b[0m temp\u001b[38;5;241m=\u001b[39m\u001b[38;5;124m\"\u001b[39m\u001b[38;5;124m\"\u001b[39m\n\u001b[0;32m      5\u001b[0m \u001b[38;5;28;01mfor\u001b[39;00m i \u001b[38;5;129;01min\u001b[39;00m \u001b[38;5;28mrange\u001b[39m(length\u001b[38;5;241m/\u001b[39m\u001b[38;5;241m/\u001b[39m\u001b[38;5;241m2\u001b[39m):\n\u001b[1;32m----> 6\u001b[0m     s[i]\u001b[38;5;241m=\u001b[39ms[length\u001b[38;5;241m-\u001b[39mi\u001b[38;5;241m-\u001b[39m\u001b[38;5;241m1\u001b[39m]\n\u001b[0;32m      8\u001b[0m \u001b[38;5;28mprint\u001b[39m(s)\n",
      "\u001b[1;31mTypeError\u001b[0m: 'str' object does not support item assignment"
     ]
    }
   ],
   "source": [
    "'''17. How can you reverse a string in Python? '''\n",
    "s=\"Nitin\"\n",
    "length=len(s)\n",
    "temp=\"\"\n",
    "for i in range(length//2):\n",
    "    s[i]=s[length-i-1]\n",
    "\n",
    "print(s)    "
   ]
  },
  {
   "cell_type": "code",
   "execution_count": 27,
   "id": "513a231f-7f47-4736-8457-26beb2c58a92",
   "metadata": {},
   "outputs": [
    {
     "name": "stdout",
     "output_type": "stream",
     "text": [
      "HELLO\n"
     ]
    }
   ],
   "source": [
    "''' 19. How do you access a substring of a string using slicing?'''\n",
    "s1=\"HELLO WORLD\"\n",
    "s2=s1[0:5:1]\n",
    "print(s2)\n"
   ]
  },
  {
   "cell_type": "code",
   "execution_count": 35,
   "id": "c6002335-e6fd-4adc-8453-485393bd4e5a",
   "metadata": {},
   "outputs": [
    {
     "name": "stdout",
     "output_type": "stream",
     "text": [
      "HEO WORLD\n"
     ]
    }
   ],
   "source": [
    "'''20. How can you remove specific characters from a string in Python?**** '''\n",
    "s1=\"HELLO WORLD\"\n",
    "s2=s1.replace(\"LL\",\"\")\n",
    "print(s2)"
   ]
  },
  {
   "cell_type": "code",
   "execution_count": null,
   "id": "da380f53-871b-468a-8cba-5eae47896635",
   "metadata": {},
   "outputs": [],
   "source": []
  }
 ],
 "metadata": {
  "kernelspec": {
   "display_name": "Python 3 (ipykernel)",
   "language": "python",
   "name": "python3"
  },
  "language_info": {
   "codemirror_mode": {
    "name": "ipython",
    "version": 3
   },
   "file_extension": ".py",
   "mimetype": "text/x-python",
   "name": "python",
   "nbconvert_exporter": "python",
   "pygments_lexer": "ipython3",
   "version": "3.12.4"
  }
 },
 "nbformat": 4,
 "nbformat_minor": 5
}
